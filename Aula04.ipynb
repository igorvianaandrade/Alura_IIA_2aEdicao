{
  "nbformat": 4,
  "nbformat_minor": 0,
  "metadata": {
    "colab": {
      "provenance": [],
      "authorship_tag": "ABX9TyPCPzPD1g22T+m16Xd+YS8o",
      "include_colab_link": true
    },
    "kernelspec": {
      "name": "python3",
      "display_name": "Python 3"
    },
    "language_info": {
      "name": "python"
    }
  },
  "cells": [
    {
      "cell_type": "markdown",
      "metadata": {
        "id": "view-in-github",
        "colab_type": "text"
      },
      "source": [
        "<a href=\"https://colab.research.google.com/github/igorvianaandrade/Alura_IIA_2aEdicao/blob/main/Aula04.ipynb\" target=\"_parent\"><img src=\"https://colab.research.google.com/assets/colab-badge.svg\" alt=\"Open In Colab\"/></a>"
      ]
    },
    {
      "cell_type": "code",
      "execution_count": 1,
      "metadata": {
        "id": "2ifj7jUwc5p4"
      },
      "outputs": [],
      "source": [
        "#Instalando o SDK do Google\n",
        "!pip install -q -U google-generativeai"
      ]
    },
    {
      "cell_type": "code",
      "execution_count": 17,
      "metadata": {
        "id": "IthzwfnAfcsi"
      },
      "outputs": [],
      "source": [
        "#Configurações iniciais\n",
        "import google.generativeai as genai\n",
        "from google.colab import userdata\n",
        "\n",
        "GOOGLE_API_KEY = userdata.get(\"SECRET_KEY\")\n",
        "genai.configure(api_key=GOOGLE_API_KEY)"
      ]
    },
    {
      "cell_type": "code",
      "source": [
        "model = genai.GenerativeModel('gemini-pro')"
      ],
      "metadata": {
        "id": "lMQ6SgIlmcc_"
      },
      "execution_count": 4,
      "outputs": []
    },
    {
      "cell_type": "code",
      "source": [
        "response = model.generate_content(\"Vamos aprender conteúdos sobre IA. Me de sugestôes.\")\n",
        "print(response.text)"
      ],
      "metadata": {
        "colab": {
          "base_uri": "https://localhost:8080/",
          "height": 729
        },
        "id": "HbPiqVJom-SG",
        "outputId": "70d48c99-11ec-4e8e-caae-d43bdc2e74ef"
      },
      "execution_count": 5,
      "outputs": [
        {
          "output_type": "stream",
          "name": "stdout",
          "text": [
            "**Conceitos Fundamentais**\n",
            "\n",
            "* O que é Inteligência Artificial (IA)?\n",
            "* Tipos de IA: estreita, geral e super\n",
            "* Aprendizado de Máquina, Aprendizado Profundo e Redes Neurais\n",
            "\n",
            "**Aplicações da IA**\n",
            "\n",
            "* Reconhecimento de imagem e fala\n",
            "* Processamento de linguagem natural\n",
            "* Veículos autônomos\n",
            "* Diagnóstico médico\n",
            "* Análise de dados\n",
            "\n",
            "**Técnicas de IA**\n",
            "\n",
            "* Aprendizado supervisionado, não supervisionado e por reforço\n",
            "* Algoritmos de clustering e classificação\n",
            "* Otimização e busca\n",
            "* Visão computacional\n",
            "\n",
            "**Ética e Implicações Sociais da IA**\n",
            "\n",
            "* Preconceito e discriminação\n",
            "* Desemprego tecnológico\n",
            "* Privacidade e vigilância\n",
            "* Responsabilidade e regulamentação\n",
            "\n",
            "**Recursos de Aprendizagem**\n",
            "\n",
            "* **Cursos online:** Coursera, edX, Udemy\n",
            "* **Livros:** \"Inteligência Artificial: Uma Introdução Moderna\" por Stuart Russell e Peter Norvig\n",
            "* **Vídeos:** Canal do YouTube do Google AI, Canal do YouTube da NVIDIA AI\n",
            "* **Blogs e artigos:** MIT Technology Review, AI Magazine, Forbes\n",
            "* **Comunidades online:** Stack Overflow, Reddit /r/ArtificialIntelligence\n",
            "\n",
            "**Recursos Avançados**\n",
            "\n",
            "* Bibliotecas de IA: TensorFlow, PyTorch, Keras\n",
            "* Quadros de IA: NVIDIA CUDA, AMD ROCm\n",
            "* Modelos pré-treinados: BERT, GPT-3\n"
          ]
        }
      ]
    },
    {
      "cell_type": "code",
      "source": [
        "#Listando os modelos disponíveis\n",
        "for m in genai.list_models():\n",
        "  if 'generateContent' in m.supported_generation_methods:\n",
        "    print(m.name)"
      ],
      "metadata": {
        "colab": {
          "base_uri": "https://localhost:8080/",
          "height": 139
        },
        "id": "pe5AjllHrLtG",
        "outputId": "922e91da-d7f8-47ab-80dd-251e9d1593bc"
      },
      "execution_count": 6,
      "outputs": [
        {
          "output_type": "stream",
          "name": "stdout",
          "text": [
            "models/gemini-1.0-pro\n",
            "models/gemini-1.0-pro-001\n",
            "models/gemini-1.0-pro-latest\n",
            "models/gemini-1.0-pro-vision-latest\n",
            "models/gemini-1.5-pro-latest\n",
            "models/gemini-pro\n",
            "models/gemini-pro-vision\n"
          ]
        }
      ]
    },
    {
      "cell_type": "code",
      "execution_count": 7,
      "metadata": {
        "id": "O1ochaeyDn_o"
      },
      "outputs": [],
      "source": [
        "generation_config = {\n",
        "  \"candidate_count\": 1,\n",
        "  \"temperature\": 0.5,\n",
        "}"
      ]
    },
    {
      "cell_type": "code",
      "execution_count": 8,
      "metadata": {
        "id": "jwBv7DofDofw"
      },
      "outputs": [],
      "source": [
        "safety_settings={\n",
        "    'HATE': 'BLOCK_NONE',\n",
        "    'HARASSMENT': 'BLOCK_NONE',\n",
        "    'SEXUAL' : 'BLOCK_NONE',\n",
        "    'DANGEROUS' : 'BLOCK_NONE'\n",
        "    }"
      ]
    },
    {
      "cell_type": "code",
      "execution_count": 9,
      "metadata": {
        "id": "NIiSs1R5mVJE"
      },
      "outputs": [],
      "source": [
        "model = genai.GenerativeModel(model_name='gemini-1.0-pro',\n",
        "                                  generation_config=generation_config,\n",
        "                                  safety_settings=safety_settings,)"
      ]
    },
    {
      "cell_type": "code",
      "source": [
        "response = model.generate_content(\"Vamos aprender conteúdos sobre IA. Me de sugestôes.\")\n",
        "response.text"
      ],
      "metadata": {
        "colab": {
          "base_uri": "https://localhost:8080/",
          "height": 226
        },
        "id": "JQzQu6AtxnPt",
        "outputId": "33c7a0e9-1bcc-4520-95e5-62e3aab7831e"
      },
      "execution_count": 12,
      "outputs": [
        {
          "output_type": "execute_result",
          "data": {
            "text/plain": [
              "'**Introdução à Inteligência Artificial (IA)**\\n\\n* Definição e histórico da IA\\n* Princípios e conceitos fundamentais\\n* Tipos de IA (por exemplo, aprendizado de máquina, aprendizado profundo, processamento de linguagem natural)\\n\\n**Aprendizado de Máquina**\\n\\n* Tipos de aprendizado de máquina (por exemplo, supervisionado, não supervisionado, por reforço)\\n* Algoritmos de aprendizado de máquina (por exemplo, regressão linear, árvores de decisão, redes neurais)\\n* Avaliação e otimização de modelos de aprendizado de máquina\\n\\n**Aprendizado Profundo**\\n\\n* Redes neurais e suas arquiteturas (por exemplo, CNNs, RNNs, Transformers)\\n* Técnicas de treinamento e otimização\\n* Aplicações de aprendizado profundo (por exemplo, reconhecimento de imagem, processamento de linguagem natural)\\n\\n**Processamento de Linguagem Natural (PNL)**\\n\\n* Representação de texto e técnicas de processamento\\n* Modelos de linguagem e aprendizado profundo para PNL\\n* Aplicações de PNL (por exemplo, tradução automática, resumo de texto)\\n\\n**Visão Computacional**\\n\\n* Processamento e análise de imagens\\n* Detecção e reconhecimento de objetos\\n* Segmentação de imagem e geração de imagem\\n\\n**IA Ética e Implicações Sociais**\\n\\n* Viés e discriminação em IA\\n* Privacidade e segurança\\n* Impacto social e econômico da IA\\n* Regulamentações e diretrizes éticas para IA\\n\\n**Ferramentas e Bibliotecas de IA**\\n\\n* Linguagens de programação e frameworks para IA (por exemplo, Python, TensorFlow, PyTorch)\\n* Ferramentas de desenvolvimento e depuração\\n* Recursos e comunidades online\\n\\n**Aplicações Práticas de IA**\\n\\n* IA na saúde (por exemplo, diagnóstico médico, descoberta de medicamentos)\\n* IA em finanças (por exemplo, previsão de mercado, detecção de fraudes)\\n* IA no varejo (por exemplo, recomendações personalizadas, otimização de estoque)\\n* IA em manufatura (por exemplo, automação, otimização de processos)'"
            ],
            "application/vnd.google.colaboratory.intrinsic+json": {
              "type": "string"
            }
          },
          "metadata": {},
          "execution_count": 12
        }
      ]
    },
    {
      "cell_type": "code",
      "source": [
        "chat = model.start_chat(history=[])\n",
        "\n",
        "prompt = input('Esperando prompt: ')\n",
        "\n",
        "while prompt != \"fim\":\n",
        "  response = chat.send_message(prompt)\n",
        "  print(\"Resposta:\", response.text, '\\n\\n')\n",
        "  prompt = input('Esperando prompt: ')"
      ],
      "metadata": {
        "colab": {
          "base_uri": "https://localhost:8080/",
          "height": 104
        },
        "id": "0uIsoDYzyyDO",
        "outputId": "3018062b-82e1-4a88-98a6-7f42ae51b626"
      },
      "execution_count": 18,
      "outputs": [
        {
          "name": "stdout",
          "output_type": "stream",
          "text": [
            "Esperando prompt: qual a capital do Japão?\n",
            "Resposta: Tóquio \n",
            "\n",
            "\n",
            "Esperando prompt: fim\n"
          ]
        }
      ]
    },
    {
      "cell_type": "code",
      "source": [
        "chat.history"
      ],
      "metadata": {
        "colab": {
          "base_uri": "https://localhost:8080/"
        },
        "id": "fguOj9EP3r5T",
        "outputId": "bccfe160-c5e6-4975-ff59-8988e5ce191c"
      },
      "execution_count": 19,
      "outputs": [
        {
          "output_type": "execute_result",
          "data": {
            "text/plain": [
              "[parts {\n",
              "   text: \"qual a capital do Jap\\303\\243o?\"\n",
              " }\n",
              " role: \"user\",\n",
              " parts {\n",
              "   text: \"T\\303\\263quio\"\n",
              " }\n",
              " role: \"model\"]"
            ]
          },
          "metadata": {},
          "execution_count": 19
        }
      ]
    },
    {
      "cell_type": "code",
      "source": [
        "#Melhorando a visualização\n",
        "#Código disponível em https://ai.google.dev/tutorials/python_quickstart#import_packages\n",
        "import textwrap\n",
        "from IPython.display import display\n",
        "from IPython.display import Markdown\n",
        "\n",
        "def to_markdown(text):\n",
        "  text = text.replace('•', '  *')\n",
        "  return Markdown(textwrap.indent(text, '> ', predicate=lambda _: True))\n",
        "\n",
        "#Imprimindo o histórico\n",
        "for message in chat.history:\n",
        "  display(to_markdown(f'**{message.role}**: {message.parts[0].text}'))\n",
        "  print('-------------------------------------------')"
      ],
      "metadata": {
        "colab": {
          "base_uri": "https://localhost:8080/",
          "height": 142
        },
        "id": "zEjeOvAu4d8l",
        "outputId": "7c73cf9e-6df9-4009-836b-cd9a75c60261"
      },
      "execution_count": 20,
      "outputs": [
        {
          "output_type": "display_data",
          "data": {
            "text/plain": [
              "<IPython.core.display.Markdown object>"
            ],
            "text/markdown": "> **user**: qual a capital do Japão?"
          },
          "metadata": {}
        },
        {
          "output_type": "stream",
          "name": "stdout",
          "text": [
            "-------------------------------------------\n"
          ]
        },
        {
          "output_type": "display_data",
          "data": {
            "text/plain": [
              "<IPython.core.display.Markdown object>"
            ],
            "text/markdown": "> **model**: Tóquio"
          },
          "metadata": {}
        },
        {
          "output_type": "stream",
          "name": "stdout",
          "text": [
            "-------------------------------------------\n"
          ]
        }
      ]
    }
  ]
}
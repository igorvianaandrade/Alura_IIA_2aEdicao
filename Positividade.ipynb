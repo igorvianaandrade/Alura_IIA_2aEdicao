{
  "nbformat": 4,
  "nbformat_minor": 0,
  "metadata": {
    "colab": {
      "provenance": [],
      "authorship_tag": "ABX9TyM+/d7POjD26Zf8vlKfFTck",
      "include_colab_link": true
    },
    "kernelspec": {
      "name": "python3",
      "display_name": "Python 3"
    },
    "language_info": {
      "name": "python"
    }
  },
  "cells": [
    {
      "cell_type": "markdown",
      "metadata": {
        "id": "view-in-github",
        "colab_type": "text"
      },
      "source": [
        "<a href=\"https://colab.research.google.com/github/igorvianaandrade/Alura_IIA_2aEdicao/blob/main/Positividade.ipynb\" target=\"_parent\"><img src=\"https://colab.research.google.com/assets/colab-badge.svg\" alt=\"Open In Colab\"/></a>"
      ]
    },
    {
      "cell_type": "code",
      "source": [
        "#Instalando o SDK do Google\n",
        "!pip install -q -U google-generativeai"
      ],
      "metadata": {
        "id": "FzzPstHOVYrp"
      },
      "execution_count": 26,
      "outputs": []
    },
    {
      "cell_type": "code",
      "source": [
        "!pip install -q -U genai"
      ],
      "metadata": {
        "id": "qUs0rB9qjI80"
      },
      "execution_count": 32,
      "outputs": []
    },
    {
      "cell_type": "code",
      "source": [
        "#Configurações iniciais\n",
        "import google.generativeai as genai\n",
        "from google.colab import userdata\n",
        "\n",
        "GOOGLE_API_KEY = userdata.get(\"SECRET_KEY\")\n",
        "genai.configure(api_key=GOOGLE_API_KEY)"
      ],
      "metadata": {
        "id": "jvohB8UOVlNi"
      },
      "execution_count": 34,
      "outputs": []
    },
    {
      "cell_type": "code",
      "source": [
        "model = genai.GenerativeModel('gemini-pro')\n",
        "#model = genai.GenerativeModel('gemini-1.0-pro')"
      ],
      "metadata": {
        "id": "izqsI2sJWENC"
      },
      "execution_count": 35,
      "outputs": []
    },
    {
      "cell_type": "code",
      "source": [
        "response = model.generate_content(\"Vamos criar uma vida mais positiva. Me de sugestôes.\")\n",
        "print(response.text)"
      ],
      "metadata": {
        "colab": {
          "base_uri": "https://localhost:8080/",
          "height": 792
        },
        "id": "K7iSMFNKmv3l",
        "outputId": "87a34220-9c8b-42c4-8354-8208964c0545"
      },
      "execution_count": 48,
      "outputs": [
        {
          "output_type": "stream",
          "name": "stdout",
          "text": [
            "**Cultivar Atitudes Positivas**\n",
            "\n",
            "* Foque nas coisas boas da vida e pratique a gratidão.\n",
            "* Desafie pensamentos negativos e substitua-os por positivos.\n",
            "* Rodeie-se de pessoas positivas e inspiradoras.\n",
            "* Envolva-se em atividades que lhe tragam alegria e propósito.\n",
            "\n",
            "**Cuidar da Saúde Física e Mental**\n",
            "\n",
            "* Cuide da sua alimentação, durma o suficiente e faça exercícios regularmente.\n",
            "* Pratique técnicas de gerenciamento de estresse, como meditação ou ioga.\n",
            "* Procure apoio profissional se necessário, como terapia ou aconselhamento.\n",
            "\n",
            "**Construir Relacionamentos Saudáveis**\n",
            "\n",
            "* Nutrir relacionamentos existentes e construir novos.\n",
            "* Seja um bom ouvinte e ofereça apoio aos outros.\n",
            "* Limite relacionamentos tóxicos ou negativos.\n",
            "\n",
            "**Estabelecer Metas e Perseguir Sonhos**\n",
            "\n",
            "* Defina metas realistas e trabalhe para alcançá-las.\n",
            "* Divida tarefas grandes em etapas menores para tornar a jornada mais gerenciável.\n",
            "* Comemore as suas conquistas e aprenda com os seus erros.\n",
            "\n",
            "**Praticar Bondade e Ajudar os Outros**\n",
            "\n",
            "* Ofereça-se como voluntário ou ajude os necessitados.\n",
            "* Seja gentil e compassivo para consigo mesmo e com os outros.\n",
            "* Compartilhe palavras de encorajamento e apoio.\n",
            "\n",
            "**Apreciar o Momento Presente**\n",
            "\n",
            "* Foque no momento presente e aprecie as coisas simples da vida.\n",
            "* Pratique a atenção plena e observe o seu entorno com gratidão.\n",
            "* Deixe de lado as preocupações com o passado ou o futuro.\n",
            "\n",
            "**Reflexões e Autoavaliações Regulares**\n",
            "\n",
            "* Reserve um tempo para refletir sobre o seu progresso e fazer ajustes conforme necessário.\n",
            "* Identifique áreas onde pode melhorar e estabeleça intenções para crescimento.\n",
            "* Celebre os seus sucessos e aprenda com os seus desafios.\n"
          ]
        }
      ]
    },
    {
      "cell_type": "code",
      "source": [
        "#Listando os modelos disponíveis\n",
        "for m in genai.list_models():\n",
        "  if 'generateContent' in m.supported_generation_methods:\n",
        "    print(m.name)"
      ],
      "metadata": {
        "colab": {
          "base_uri": "https://localhost:8080/",
          "height": 146
        },
        "id": "6fG_KFgCnRps",
        "outputId": "d2dfd2ba-5ec2-4daf-cce3-ebc8c715269e"
      },
      "execution_count": 49,
      "outputs": [
        {
          "output_type": "stream",
          "name": "stdout",
          "text": [
            "models/gemini-1.0-pro\n",
            "models/gemini-1.0-pro-001\n",
            "models/gemini-1.0-pro-latest\n",
            "models/gemini-1.0-pro-vision-latest\n",
            "models/gemini-1.5-pro-latest\n",
            "models/gemini-pro\n",
            "models/gemini-pro-vision\n"
          ]
        }
      ]
    },
    {
      "cell_type": "code",
      "source": [
        "generation_config = {\n",
        "  \"candidate_count\": 1,\n",
        "  \"temperature\": 0.5,\n",
        "}"
      ],
      "metadata": {
        "id": "1gfC0myAngS0"
      },
      "execution_count": 50,
      "outputs": []
    },
    {
      "cell_type": "code",
      "source": [
        "safety_settings={\n",
        "    'HATE': 'BLOCK_NONE',\n",
        "    'HARASSMENT': 'BLOCK_NONE',\n",
        "    'SEXUAL' : 'BLOCK_NONE',\n",
        "    'DANGEROUS' : 'BLOCK_NONE'\n",
        "    }"
      ],
      "metadata": {
        "id": "Zlm9OTKznj9Q"
      },
      "execution_count": 51,
      "outputs": []
    },
    {
      "cell_type": "code",
      "source": [
        "model = genai.GenerativeModel(model_name='gemini-1.0-pro',\n",
        "                                  generation_config=generation_config,\n",
        "                                  safety_settings=safety_settings,)"
      ],
      "metadata": {
        "id": "z9f_tpsHnqHS"
      },
      "execution_count": 52,
      "outputs": []
    },
    {
      "cell_type": "code",
      "source": [
        "import nltk\n",
        "from nltk.sentiment.vader import SentimentIntensityAnalyzer\n",
        "import random\n",
        "\n",
        "# Carregar modelo de linguagem NLTK\n",
        "nltk.download('punkt')\n",
        "nltk.download('vader_lexicon')\n",
        "\n",
        "# Inicializar analisador de sentimento VADER\n",
        "analyzer = SentimentIntensityAnalyzer()"
      ],
      "metadata": {
        "colab": {
          "base_uri": "https://localhost:8080/"
        },
        "id": "KGzCmo-BWWOl",
        "outputId": "2f366f6b-7fac-4bf7-d6af-87938fdf6a98"
      },
      "execution_count": 53,
      "outputs": [
        {
          "output_type": "stream",
          "name": "stderr",
          "text": [
            "[nltk_data] Downloading package punkt to /root/nltk_data...\n",
            "[nltk_data]   Package punkt is already up-to-date!\n",
            "[nltk_data] Downloading package vader_lexicon to /root/nltk_data...\n",
            "[nltk_data]   Package vader_lexicon is already up-to-date!\n"
          ]
        }
      ]
    },
    {
      "cell_type": "code",
      "source": [
        "# Frases iniciais\n",
        "frases_iniciais = [\n",
        "    \"Que legal que você está aqui! Como posso te ajudar hoje?\",\n",
        "    \"Oi! Estou pronto para te dar um incentivo. Me diga o que você está pensando.\",\n",
        "    \"Olá! Estou aqui para te inspirar e motivar. Conte-me um pouco sobre você.\",\n",
        "]"
      ],
      "metadata": {
        "id": "jo1vz6hWYEqV"
      },
      "execution_count": 54,
      "outputs": []
    },
    {
      "cell_type": "code",
      "source": [
        "def gerar_resposta(frase_usuario):\n",
        "    # Analisar sentimento da frase do usuário\n",
        "    sentimento = analyzer.polarity_scores(frase_usuario)\n",
        "\n",
        "    # Criar prompt para Gemini Model\n",
        "    prompt = f\"\"\"\n",
        "    **Prompt:** Gere frases motivadoras e inspiradoras com base no seguinte contexto:\n",
        "\n",
        "    **Contexto:** {frase_usuario}\n",
        "\n",
        "    **Sentimento:** {sentimento['compound']} (positivo, neutro ou negativo)\n",
        "\n",
        "    **Exemplo:**\n",
        "    * Acredite em você mesmo e nunca desista dos seus sonhos.\n",
        "    * Você é capaz de realizar grandes coisas. Confie em si mesmo!\n",
        "    \"\"\"\n",
        "\n",
        "    # Gerar frases motivacionais usando Gemini Model\n",
        "    #resultados = model.generate(prompt, temperature=0.7, num_samples=3)\n",
        "    resultados = model.generate_content(prompt)\n",
        "    frases_motivacionais = [resultados.text]\n",
        "    #frases_motivacionais = [resultado['text'] for resultado in resultados]\n",
        "\n",
        "    # Selecionar frase motivacional aleatória\n",
        "    frase_motivacional = random.choice(frases_motivacionais)\n",
        "\n",
        "    # Retornar resposta completa\n",
        "    return f\"\\n{frase_motivacional}\""
      ],
      "metadata": {
        "id": "Xvcdcmd9dQ-q"
      },
      "execution_count": 66,
      "outputs": []
    },
    {
      "cell_type": "code",
      "source": [
        "# Loop principal do chatbot\n",
        "while True:\n",
        "    # Exibir frase inicial aleatória\n",
        "    frase_inicial = random.choice(frases_iniciais)\n",
        "    print(\"\\n\" + frase_inicial)\n",
        "\n",
        "    # Obter frase do usuário\n",
        "    frase_usuario = input(\"Digite sua mensagem: \")\n",
        "\n",
        "    # Verificar se o usuário deseja encerrar a conversa\n",
        "    if frase_usuario.lower() == \"sair\":\n",
        "        break\n",
        "\n",
        "    # Gerar e exibir resposta usando Google Generative AI\n",
        "    resposta = gerar_resposta(frase_usuario)\n",
        "    print(resposta)\n",
        "\n",
        "# Mensagem de despedida\n",
        "print(\"\\n\" + \"Foi um prazer conversar com você! Volte sempre que precisar de um incentivo.\")"
      ],
      "metadata": {
        "colab": {
          "base_uri": "https://localhost:8080/",
          "height": 275
        },
        "id": "TKnfEOIVf_iX",
        "outputId": "a75458e7-3030-4dff-abe1-086ca6cf8135"
      },
      "execution_count": 70,
      "outputs": [
        {
          "output_type": "stream",
          "name": "stdout",
          "text": [
            "\n",
            "Que legal que você está aqui! Como posso te ajudar hoje?\n",
            "Digite sua mensagem: teste\n",
            "\n",
            "* O teste é apenas um passo em uma jornada maior. Não desanime se não for perfeito.\n",
            "* Cada teste é uma oportunidade de aprender e crescer. Abrace o desafio!\n",
            "* Seja resiliente. Os obstáculos são inevitáveis, mas você pode superá-los.\n",
            "* Foque no progresso, não na perfeição. Cada pequena vitória é um passo em direção ao sucesso.\n",
            "* Confie em suas habilidades e acredite que você pode superar qualquer teste.\n",
            "\n",
            "Olá! Estou aqui para te inspirar e motivar. Conte-me um pouco sobre você.\n",
            "Digite sua mensagem: sair\n",
            "\n",
            "Foi um prazer conversar com você! Volte sempre que precisar de um incentivo.\n"
          ]
        }
      ]
    }
  ]
}